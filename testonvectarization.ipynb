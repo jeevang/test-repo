{
  "nbformat": 4,
  "nbformat_minor": 0,
  "metadata": {
    "colab": {
      "name": "testonvectarization.ipynb",
      "provenance": [],
      "authorship_tag": "ABX9TyOXaihGUi/BcwBlo201hGbn",
      "include_colab_link": true
    },
    "kernelspec": {
      "name": "python3",
      "display_name": "Python 3"
    }
  },
  "cells": [
    {
      "cell_type": "markdown",
      "metadata": {
        "id": "view-in-github",
        "colab_type": "text"
      },
      "source": [
        "<a href=\"https://colab.research.google.com/github/jeevang/test-repo/blob/master/testonvectarization.ipynb\" target=\"_parent\"><img src=\"https://colab.research.google.com/assets/colab-badge.svg\" alt=\"Open In Colab\"/></a>"
      ]
    },
    {
      "cell_type": "code",
      "metadata": {
        "id": "6NQmFPmBV2PX",
        "outputId": "4801c1ec-9cc1-4cd9-bb1c-ae49842abee5",
        "colab": {
          "base_uri": "https://localhost:8080/"
        }
      },
      "source": [
        "import numpy as np\n",
        "a = np.array([1,2,3,4])\n",
        "print (a)\n",
        "\n",
        "import time\n",
        "a = np.random.rand(1000000)\n",
        "b = np.random.rand(1000000)\n",
        "tic = time.time()\n",
        "c = np.dot(a,b)\n",
        "toc = time.time()\n",
        "print (1000*(toc - tic))\n",
        "print (c)\n",
        "\n",
        "c = 0\n",
        "tic - time.time()\n",
        "for i in range(1000000):\n",
        "    c += a[i]*b[i]\n",
        "toc = time.time()\n",
        "print (1000*(toc - tic))\n",
        "print (c)\n",
        "\n",
        "import matplotlib.pyplot as plt\n",
        "import h5py\n",
        "import scipy\n",
        "from PIL import Image\n",
        "from scipy import ndimage\n",
        "\n",
        "%matplotlib inline\n"
      ],
      "execution_count": 4,
      "outputs": [
        {
          "output_type": "stream",
          "text": [
            "[1 2 3 4]\n",
            "6.491184234619141\n",
            "250001.4644119669\n",
            "1216.7329788208008\n",
            "250001.46441196796\n"
          ],
          "name": "stdout"
        }
      ]
    }
  ]
}